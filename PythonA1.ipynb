{
 "cells": [
  {
   "cell_type": "markdown",
   "id": "0faa4ad1",
   "metadata": {},
   "source": [
    "Sahaj Srivastava \n",
    "Email:- sahajsrivastav1@gmail.com\n",
    "contact no.- 6388923331\n",
    "college- Rajkiya Engineering college, Banda."
   ]
  },
  {
   "cell_type": "markdown",
   "id": "c3a694f7",
   "metadata": {},
   "source": [
    "1.\tA company decided to give bonus of 5% to employee if his/her year of service is more than 5 years. Ask user for their salary and year of service and print the net bonus amount."
   ]
  },
  {
   "cell_type": "code",
   "execution_count": 36,
   "id": "e7f7d5a9",
   "metadata": {},
   "outputs": [
    {
     "name": "stdout",
     "output_type": "stream",
     "text": [
      "enter the salary :50000\n",
      "enter your year of service :8\n",
      "your net bonus amount is :2500.0\n"
     ]
    }
   ],
   "source": [
    "salary=int( input(\"enter the salary :\"))\n",
    "year=int(input(\"enter your year of service :\"))\n",
    "if year>=5:\n",
    "    print(f\"your net bonus amount is :{0.05*salary}\")\n",
    "else:\n",
    "    print (\"not eligible for bonus\")"
   ]
  },
  {
   "cell_type": "markdown",
   "id": "0eed41a9",
   "metadata": {},
   "source": [
    "2.\tA school has following rules for grading system: \n",
    "a.\tBelow 25 - F    \n",
    "b.\t25 to 45 - E    \n",
    "c.\t45 to 50 - D     \n",
    "d.\t50 to 60 - C   \n",
    "e.\t60 to 80 - B    \n",
    "f.\tAbove 80 - A    \n",
    "Ask user to enter marks and print the corresponding grade. \n"
   ]
  },
  {
   "cell_type": "code",
   "execution_count": 35,
   "id": "f64794c2",
   "metadata": {},
   "outputs": [
    {
     "name": "stdout",
     "output_type": "stream",
     "text": [
      "enter your marks :75\n",
      "Your grade is : B \n"
     ]
    }
   ],
   "source": [
    "marks=int(input(\"enter your marks :\"))\n",
    "if (marks>=25 and marks<45):\n",
    "    print(\"Your grade is : E \")\n",
    "elif (marks>=45 and marks<50 ):\n",
    "    print(\"Your grade is : D \")\n",
    "elif (marks>=50 and marks<60 ):\n",
    "    print(\"Your grade is : C \")\n",
    "elif (marks>=60 and marks<80):\n",
    "    print(\"Your grade is : B \")\n",
    "elif (marks>=80):\n",
    "    print(\"Your grade is : A \")\n",
    "else :\n",
    "    print(\"Your grade is : F \")\n",
    "    "
   ]
  },
  {
   "cell_type": "markdown",
   "id": "21a2572e",
   "metadata": {},
   "source": [
    "3.\tA student will not be allowed to sit in exam if his/her attendence is less than 75%. \n",
    "Take following input from user \n",
    "Number of classes held \n",
    "Number of classes attended. And print \n",
    "percentage of class attended \n",
    "Is student is allowed to sit in exam or not. \n"
   ]
  },
  {
   "cell_type": "code",
   "execution_count": 34,
   "id": "299a466a",
   "metadata": {},
   "outputs": [
    {
     "name": "stdout",
     "output_type": "stream",
     "text": [
      "enter the total number of classes held :50\n",
      "enter the total number of classes attended :40\n",
      "\n",
      "percentage of class attended= 80.0%\n",
      "You are allowed to sit in exam\n"
     ]
    }
   ],
   "source": [
    "classes=int(input(\"enter the total number of classes held :\"))\n",
    "present=int(input(\"enter the total number of classes attended :\"))\n",
    "percentage=(present/classes)*100\n",
    "print(f\"\\npercentage of class attended= {percentage}%\")\n",
    "if percentage>=75:\n",
    "    print(\"You are allowed to sit in exam\")\n",
    "else:\n",
    "    print(\"You are not allowed to sit in exam\")"
   ]
  },
  {
   "cell_type": "markdown",
   "id": "85ebb761",
   "metadata": {},
   "source": [
    "4.\tAsk user to enter age, sex ( M or F ), marital status ( Y or N ) and then using following rules print their place of service. if employee is female, then she will work only in urban areas. \n",
    " \n",
    "if employee is a male and age is in between 20 to 40 then he may work in anywhere \n",
    " \n",
    "if employee is male and age is in between 40 t0 60 then he will work in urban areas only.\n",
    "And any other input of age should print \"ERROR\" \n"
   ]
  },
  {
   "cell_type": "code",
   "execution_count": 33,
   "id": "590d7482",
   "metadata": {},
   "outputs": [
    {
     "name": "stdout",
     "output_type": "stream",
     "text": [
      "enter your sex (M or F) : M\n",
      "enter your age : 25\n",
      "enter your marital status (Y or N) : N\n",
      "You may work in anywhere \n"
     ]
    }
   ],
   "source": [
    "sex=input(\"enter your sex (M or F) : \")\n",
    "age=int(input(\"enter your age : \"))\n",
    "marraige=input(\"enter your marital status (Y or N) : \")\n",
    "if (age<20 or age >60):\n",
    "    print (\"ERROR\")\n",
    "if sex==\"F\":\n",
    "    print(\"You can work only in urban areas\")\n",
    "if (sex==\"M\") :\n",
    "    if age>=20 and age<=40 :\n",
    "        print(\"You may work in anywhere \")\n",
    "    elif age>=40 and age <=60:\n",
    "        print (\"You can work only in urban areas\")"
   ]
  },
  {
   "cell_type": "markdown",
   "id": "379d1a76",
   "metadata": {},
   "source": [
    "5.\tTake 10 integers from keyboard using loop and print their average value on the screen. \n"
   ]
  },
  {
   "cell_type": "code",
   "execution_count": 32,
   "id": "161023d8",
   "metadata": {},
   "outputs": [
    {
     "name": "stdout",
     "output_type": "stream",
     "text": [
      "enter 10 integers whose average you want\n",
      "2\n",
      "3\n",
      "4\n",
      "5\n",
      "6\n",
      "7\n",
      "7\n",
      "8\n",
      "9\n",
      "9\n",
      "average value is:  6.0\n"
     ]
    }
   ],
   "source": [
    "print (\"enter 10 integers whose average you want\")\n",
    "list=[]\n",
    "for i in range (10):\n",
    "    a=int (input())\n",
    "    list.append (a)\n",
    "sum=0\n",
    "for j in list:\n",
    "    sum=sum+j\n",
    "average= sum/10\n",
    "print (\"average value is: \",average)\n",
    "    \n"
   ]
  },
  {
   "cell_type": "markdown",
   "id": "bf0dcef3",
   "metadata": {},
   "source": [
    "6.\tWrite a program to calculate factorial of a number. "
   ]
  },
  {
   "cell_type": "code",
   "execution_count": 5,
   "id": "3d938077",
   "metadata": {},
   "outputs": [
    {
     "name": "stdout",
     "output_type": "stream",
     "text": [
      "enter the number whose factorial you want :4\n",
      "factorial of the number 4 is 24\n"
     ]
    }
   ],
   "source": [
    "n=int (input(\"enter the number whose factorial you want :\"))\n",
    "m=n\n",
    "factorial=1\n",
    "while n>=1:\n",
    "    factorial=factorial*n\n",
    "    n=n-1\n",
    "print(f\"factorial of the number {m} is {factorial}\")\n",
    "    "
   ]
  },
  {
   "cell_type": "markdown",
   "id": "836fb068",
   "metadata": {},
   "source": [
    "7.\tTake integer inputs from user until he/she presses q ( Ask to press q to quit after every integer input ). Print average and product of all numbers. "
   ]
  },
  {
   "cell_type": "code",
   "execution_count": 8,
   "id": "e4497bae",
   "metadata": {},
   "outputs": [
    {
     "name": "stdout",
     "output_type": "stream",
     "text": [
      "enter the numbers. \n",
      " press q to stop entering numbers \n",
      "4\n",
      "5\n",
      "6\n",
      "q\n",
      "average value is:  5.0\n",
      "product of the numbers is : 120\n"
     ]
    }
   ],
   "source": [
    "print (\"enter the numbers. \\n press q to stop entering numbers \")\n",
    "list=[]\n",
    "while True:\n",
    "    a=input()\n",
    "    if a==\"q\":\n",
    "        break\n",
    "    b=int(a)\n",
    "    list.append (b)\n",
    "sum1=0\n",
    "for i in list:\n",
    "    sum1=sum1+i\n",
    "average= sum1/len (list)\n",
    "print (\"average value is: \",average)\n",
    "product=1\n",
    "for j in list:\n",
    "    product=product*j\n",
    "print (\"product of the numbers is :\",product)\n",
    "\n",
    "    "
   ]
  },
  {
   "cell_type": "markdown",
   "id": "549df44e",
   "metadata": {},
   "source": [
    "8.\tA three digit number is called Armstrong number if sum of cube of its digit is equal to number itself. \n",
    "E.g.- 153 is an Armstrong number because (13)+(53)+(33) = 153. \n",
    "Write all Armstrong numbers between 100 to 500. \n"
   ]
  },
  {
   "cell_type": "code",
   "execution_count": 19,
   "id": "8319b786",
   "metadata": {},
   "outputs": [
    {
     "name": "stdout",
     "output_type": "stream",
     "text": [
      "enter a three digit number :153\n",
      "153 is Amgstrong number\n"
     ]
    }
   ],
   "source": [
    "number=input(\"enter a three digit number :\")\n",
    "list1=[]\n",
    "for i in number:\n",
    "    list1.append (int(i))\n",
    "x=list1[0]\n",
    "y=list1[1]\n",
    "z=list1[2]\n",
    "a=(x**3)+(y**3)+(z**3)\n",
    "if a==int(number):\n",
    "    print (f\"{number} is Amgstrong number\")\n",
    "    \n",
    "else :\n",
    "    print (f\"{number} is not Amgstrong number \")\n",
    "\n",
    "    "
   ]
  },
  {
   "cell_type": "code",
   "execution_count": 51,
   "id": "9fd58624",
   "metadata": {},
   "outputs": [
    {
     "name": "stdout",
     "output_type": "stream",
     "text": [
      " All Armstrong numbers between 100 to 500 are :\n",
      "153\n",
      "370\n",
      "371\n",
      "407\n"
     ]
    }
   ],
   "source": [
    "def amgstrong(num1):\n",
    "    list2=[]\n",
    "    string=str(num1)\n",
    "    for i in string:\n",
    "        list2.append (int(i))\n",
    "    x=list2[0]\n",
    "    y=list2[1]\n",
    "    z=list2[2]\n",
    "    a=(x**3)+(y**3)+(z**3)\n",
    "    if a==int(num1):\n",
    "        return a\n",
    "    else:\n",
    "        return 0\n",
    "print (\" All Armstrong numbers between 100 to 500 are :\")\n",
    "for r in range(100,500):\n",
    "    t=amgstrong(r)\n",
    "    if t!=0:\n",
    "         print(t)\n"
   ]
  },
  {
   "cell_type": "markdown",
   "id": "d5e84492",
   "metadata": {},
   "source": [
    "9.\tWrite a program to find the length of the string \"refrigerator\" without using len function. "
   ]
  },
  {
   "cell_type": "code",
   "execution_count": 52,
   "id": "d0583d51",
   "metadata": {},
   "outputs": [
    {
     "name": "stdout",
     "output_type": "stream",
     "text": [
      "The length of the string 'refrigerator' is 12  \n"
     ]
    }
   ],
   "source": [
    "string=\"refrigerator\"\n",
    "length=0\n",
    "for i in string:\n",
    "    length=length+1\n",
    "print(f\"The length of the string 'refrigerator' is {length}  \")\n",
    "\n"
   ]
  },
  {
   "cell_type": "markdown",
   "id": "65fe5056",
   "metadata": {},
   "source": [
    "10.\tWrite a program that takes your full name as input and displays the abbreviations of the first and middle names except the last name which is displayed as it is. For example, if your name is Robert Brett Roser, then the output should be R.B.Roser. "
   ]
  },
  {
   "cell_type": "code",
   "execution_count": 31,
   "id": "203cfd8b",
   "metadata": {},
   "outputs": [
    {
     "name": "stdout",
     "output_type": "stream",
     "text": [
      "enter your full name sahaj kr srivastava\n",
      "Hello S.K.Srivastava. Welcome to my program.\n"
     ]
    }
   ],
   "source": [
    "full_name =input(\"enter your full name \")\n",
    "s=full_name\n",
    "name_list=s.split()\n",
    "fn,mn,ln=name_list\n",
    "x=fn.title()\n",
    "y=mn.title()\n",
    "z=ln.title()\n",
    "a1=x[0]\n",
    "a2=y[0]\n",
    "print (f\"Hello {a1}.{a2}.{z}. Welcome to my program.\")"
   ]
  },
  {
   "cell_type": "code",
   "execution_count": null,
   "id": "ed3a6bb0",
   "metadata": {},
   "outputs": [],
   "source": []
  },
  {
   "cell_type": "code",
   "execution_count": null,
   "id": "def2038a",
   "metadata": {},
   "outputs": [],
   "source": [
    "\n"
   ]
  },
  {
   "cell_type": "code",
   "execution_count": null,
   "id": "1cc489bb",
   "metadata": {},
   "outputs": [],
   "source": []
  }
 ],
 "metadata": {
  "kernelspec": {
   "display_name": "Python 3",
   "language": "python",
   "name": "python3"
  },
  "language_info": {
   "codemirror_mode": {
    "name": "ipython",
    "version": 3
   },
   "file_extension": ".py",
   "mimetype": "text/x-python",
   "name": "python",
   "nbconvert_exporter": "python",
   "pygments_lexer": "ipython3",
   "version": "3.8.8"
  }
 },
 "nbformat": 4,
 "nbformat_minor": 5
}
